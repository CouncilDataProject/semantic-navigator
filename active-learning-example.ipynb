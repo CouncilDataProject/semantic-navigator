{
 "cells": [
  {
   "cell_type": "code",
   "execution_count": 1,
   "id": "8a2c2b4a-a31d-4233-a418-bbcab2fe7666",
   "metadata": {
    "tags": []
   },
   "outputs": [
    {
     "data": {
      "text/plain": [
       "Index(['chunk_id', 'event_id', 'start_time', 'session_id', 'session_index',\n",
       "       'session_datetime', 'chunk_storage_path', 'embedding'],\n",
       "      dtype='object')"
      ]
     },
     "execution_count": 1,
     "metadata": {},
     "output_type": "execute_result"
    }
   ],
   "source": [
    "import pandas as pd\n",
    "from gcsfs import GCSFileSystem\n",
    "\n",
    "# Store the current dataset version\n",
    "GCP_PROJECT_ID = \"sem-nav-eva-005\"\n",
    "DATASET_VERSION = \"2023-05-02\"\n",
    "\n",
    "# Create a GCS File system with anon creds\n",
    "FS = GCSFileSystem(GCP_PROJECT_ID, token=\"anon\")\n",
    "\n",
    "# Read the dataset from remote\n",
    "DATASET = pd.read_parquet(\n",
    "    f\"gs://{GCP_PROJECT_ID}/{DATASET_VERSION}/dataset.parquet\",\n",
    "    storage_options={\"token\": \"anon\"},\n",
    ")\n",
    "DATASET.columns"
   ]
  },
  {
   "cell_type": "code",
   "execution_count": 2,
   "id": "60efb6d6-9e86-4eda-93eb-f9bfb139c1c4",
   "metadata": {
    "tags": []
   },
   "outputs": [
    {
     "name": "stderr",
     "output_type": "stream",
     "text": [
      "/Users/eva/miniconda3/envs/semantic-navigator/lib/python3.10/site-packages/tqdm/auto.py:21: TqdmWarning: IProgress not found. Please update jupyter and ipywidgets. See https://ipywidgets.readthedocs.io/en/stable/user_install.html\n",
      "  from .autonotebook import tqdm as notebook_tqdm\n"
     ]
    },
    {
     "data": {
      "text/plain": [
       "(384,)"
      ]
     },
     "execution_count": 2,
     "metadata": {},
     "output_type": "execute_result"
    }
   ],
   "source": [
    "from sentence_transformers import SentenceTransformer\n",
    "from semantic_navigator.constants import EMBEDDING_MODEL_NAME\n",
    "\n",
    "# Load the embedding model\n",
    "model = SentenceTransformer(EMBEDDING_MODEL_NAME)\n",
    "\n",
    "# Embed the query\n",
    "query_embedding = model.encode(\"defund the police\")\n",
    "query_embedding.shape"
   ]
  },
  {
   "cell_type": "code",
   "execution_count": 3,
   "id": "5f281975-4fed-442b-b001-9cd1175c1f48",
   "metadata": {
    "tags": []
   },
   "outputs": [
    {
     "data": {
      "text/html": [
       "<div>\n",
       "<style scoped>\n",
       "    .dataframe tbody tr th:only-of-type {\n",
       "        vertical-align: middle;\n",
       "    }\n",
       "\n",
       "    .dataframe tbody tr th {\n",
       "        vertical-align: top;\n",
       "    }\n",
       "\n",
       "    .dataframe thead th {\n",
       "        text-align: right;\n",
       "    }\n",
       "</style>\n",
       "<table border=\"1\" class=\"dataframe\">\n",
       "  <thead>\n",
       "    <tr style=\"text-align: right;\">\n",
       "      <th></th>\n",
       "      <th>chunk_id</th>\n",
       "      <th>similarity</th>\n",
       "    </tr>\n",
       "  </thead>\n",
       "  <tbody>\n",
       "    <tr>\n",
       "      <th>4002</th>\n",
       "      <td>c52cabcf-389b-4222-ab25-b42bfae70c72</td>\n",
       "      <td>0.734023</td>\n",
       "    </tr>\n",
       "    <tr>\n",
       "      <th>6482</th>\n",
       "      <td>28798b41-7a0d-42ce-8dae-8439125a676f</td>\n",
       "      <td>0.688331</td>\n",
       "    </tr>\n",
       "    <tr>\n",
       "      <th>6483</th>\n",
       "      <td>dd2e8dbf-898a-4bf7-be05-a6d085b637e9</td>\n",
       "      <td>0.611672</td>\n",
       "    </tr>\n",
       "    <tr>\n",
       "      <th>3652</th>\n",
       "      <td>f672510a-a0ff-47cb-ac95-1180e6086198</td>\n",
       "      <td>0.595868</td>\n",
       "    </tr>\n",
       "    <tr>\n",
       "      <th>3913</th>\n",
       "      <td>9fc0fb64-ff33-4410-9ae5-32d9cde71744</td>\n",
       "      <td>0.593337</td>\n",
       "    </tr>\n",
       "    <tr>\n",
       "      <th>6481</th>\n",
       "      <td>93aa6037-a12a-4db4-99bb-420eee091fbf</td>\n",
       "      <td>0.589277</td>\n",
       "    </tr>\n",
       "    <tr>\n",
       "      <th>7644</th>\n",
       "      <td>103d0965-e88a-4f61-b475-bfdf3cf3c2ca</td>\n",
       "      <td>0.578662</td>\n",
       "    </tr>\n",
       "    <tr>\n",
       "      <th>7575</th>\n",
       "      <td>472d644b-7e45-427e-a70e-121da305f645</td>\n",
       "      <td>0.556719</td>\n",
       "    </tr>\n",
       "    <tr>\n",
       "      <th>5697</th>\n",
       "      <td>97911f1f-c84e-4d18-9865-df44c89a9687</td>\n",
       "      <td>0.537277</td>\n",
       "    </tr>\n",
       "    <tr>\n",
       "      <th>2072</th>\n",
       "      <td>8a0bd951-0a92-4905-bb1f-5af003711477</td>\n",
       "      <td>0.535628</td>\n",
       "    </tr>\n",
       "  </tbody>\n",
       "</table>\n",
       "</div>"
      ],
      "text/plain": [
       "                                  chunk_id  similarity\n",
       "4002  c52cabcf-389b-4222-ab25-b42bfae70c72    0.734023\n",
       "6482  28798b41-7a0d-42ce-8dae-8439125a676f    0.688331\n",
       "6483  dd2e8dbf-898a-4bf7-be05-a6d085b637e9    0.611672\n",
       "3652  f672510a-a0ff-47cb-ac95-1180e6086198    0.595868\n",
       "3913  9fc0fb64-ff33-4410-9ae5-32d9cde71744    0.593337\n",
       "6481  93aa6037-a12a-4db4-99bb-420eee091fbf    0.589277\n",
       "7644  103d0965-e88a-4f61-b475-bfdf3cf3c2ca    0.578662\n",
       "7575  472d644b-7e45-427e-a70e-121da305f645    0.556719\n",
       "5697  97911f1f-c84e-4d18-9865-df44c89a9687    0.537277\n",
       "2072  8a0bd951-0a92-4905-bb1f-5af003711477    0.535628"
      ]
     },
     "execution_count": 3,
     "metadata": {},
     "output_type": "execute_result"
    }
   ],
   "source": [
    "from sentence_transformers.util import cos_sim\n",
    "\n",
    "# Get similarity of query against all docs\n",
    "DATASET[\"similarity\"] = DATASET.embedding.apply(lambda e: cos_sim(e, query_embedding).item())\n",
    "\n",
    "# Get top 10 most similar text chunks\n",
    "TOP_10_START = DATASET.sort_values(by=\"similarity\", ascending=False)[:10]\n",
    "TOP_10_START[[\"chunk_id\", \"similarity\"]]"
   ]
  },
  {
   "cell_type": "code",
   "execution_count": 4,
   "id": "2d92d72e-61fc-496f-91a0-486510560fe5",
   "metadata": {
    "tags": []
   },
   "outputs": [
    {
     "name": "stdout",
     "output_type": "stream",
     "text": [
      "Chunk Id 'c52cabcf-389b-4222-ab25-b42bfae70c72':\n",
      "\t'So as we discuss what defunding the police department really means, because let's be honest, we haven't asked ourselves these questions yet, we should ask what do the police do all day? And if what they do is respond to people dealing with mental illness, to people experiencing homelessness, to young people who are hanging out, then we have a problem. The police shouldn't be responding to those calls. It's not their job. They aren't trained social workers. And these things are not crimes. So we really need to build community safety in a way that doesn't center police. And when we say defund the police, you know, what we mean is shrink their responsibilities and shrink their funding. In organizing spaces that really focus on disruption, and I will say many of those organizations come from my district, so, you know, there is an important guiding principle to that work, which is that we spend about 20% of our time dismantling the current system, but we really spend 80% of our time building community alternatives. And I just want to make clear that we already have a lot of these alternatives in place.'\n",
      "\n",
      "----------------------------------------\n",
      "\n",
      "Chunk Id '28798b41-7a0d-42ce-8dae-8439125a676f':\n",
      "\t'Actually reducing the forces of oppression in society. That's different from many of the accounting gimmicks the Mayor's office has used. There's tens of millions of dollars transferred out of the police Department into other departmental budgets with no tangible change in real terms. That's not what the community is talking about. There's also some genuine reductions in police spending, partially because of the impact of the movement. However, the genuine reductions are far, far from 50%. To calculate what's needed to Defund the police, we took last year's budget and adjusted for technical adjustments and accounted for the transfers to other departments and divided the remainder in half, subtracted the genuine reductions in the Mayor's police budget, and what is left is the 170 million odd dollars that still need to be Defunded, which is what this budget amendment would do. That's of course a lot of calculations to describe verbally. I'll be happy to share the work sheets my office produced with any interested, but I think it's essential we understand the reason this is so complicated is because of the layering and other accounting tricks used to try to deflect thousands of people have real lip understanding what the budget represents and we're talking about tens of thousands of people in the city that are still, who still come into public testimony demanding the Defunding of the SPD.'\n",
      "\n",
      "----------------------------------------\n",
      "\n",
      "Chunk Id 'dd2e8dbf-898a-4bf7-be05-a6d085b637e9':\n",
      "\t'Council members have a real option to follow through on the commitment expressed to Defund oppressive policing and instead put the funds in genuinely Uplifting our communities. Over the summer, we heard many things from Council that it's complicated and would take months to Defund the police, and I said at the time that was an excuse in my view, but regardless, now it is very simple, and it's been months since the promises were made, and I would really urge Council members to co-sponsor this and vote in favor of this amendment and sort of understand that this is not a technical question, but it's a question of whether politically we want to do this or not. Thank you Council member Sawant. Any additional comments or questions? Council member Herbold. I just remember from the 2020 rebalancing exercise, well, it was more than an exercise, it was a vote. That central staff did some analysis around what a 50% cut would be, and I think it would have, it would result in, um, a reduction in something like 700 officers, does that --'\n",
      "\n",
      "----------------------------------------\n",
      "\n",
      "Chunk Id 'f672510a-a0ff-47cb-ac95-1180e6086198':\n",
      "\t'Only recently has the OPA opened an investigation into this murder claiming at first that no one had submitted a complaint despite the fact I had back in June and despite the OPA having the mandate to do so independent of any complaints. Just last Wednesday to everyone's shock and dismay the CPC abruptly and arbitrarily suspended public comment and fled into an illegal executive session to deal with this violation of transparency. Here the bottom line is there's an urgent need not to just defund the system but to defund and reimagine the current failed police accountability system. Thank you. Thank you. Next up is Colleen followed by Eric Salinger. Go ahead, Colleen. Just make sure you press star six so we can hear you. You there, Colleen? Good afternoon, city council, and thank you. Welcome back from your well deserved break. As you all know, the omnibus bills are presented annually to correct typos, cross reference, correct omissions, clarify violations, and make other technical corrections and clarification. Quote, they're not intended to be a vehicle for addressing significant public policy issues.'\n",
      "\n",
      "----------------------------------------\n",
      "\n",
      "Chunk Id '9fc0fb64-ff33-4410-9ae5-32d9cde71744':\n",
      "\t'Seattle police have a history of exploiting and harassing those within so-called vice industries for their benefit, and these repeals remove the police from the tempting exploitation of these situations. This is one great step toward being able to defund the police by cutting the unnecessary laws that target our Black and marginalized community. Please pass these repeals and keep moving forward to defund the police by 50% and reallocate to Black communities, and please release the protesters. Thank you. Okay, thank you so much for calling in. That's the last person I have that is signed up and is showing up present on my master list here. I'll just sort of look to our technology department and get confirmation that there aren't any other additional matches available for public comment, and someone from our IT team confirmed that for me. That's it for everyone, thank you. Okay, thank you so much. For those folks who may have pre-registered but weren't called on, part of the work that our IT department does as they are looking who to admit into our meetings is making sure that we can match up your phone number that you're using to call in with the number that you registered with, and so that's important for you to use the same number that you registered, pre-registered with to call in on so that we can make the match and call on you and allow you, unmute your microphone.'\n",
      "\n",
      "----------------------------------------\n",
      "\n",
      "Chunk Id '93aa6037-a12a-4db4-99bb-420eee091fbf':\n",
      "\t'There's a lot to unpack here, and I look forward to learning more. All right, I think we're on number 11. Right, number 11. Defunding SPD's budget by 50% brought by Council member Sawant. Thank you, chair Mosqueda. This is the budget amendment to Defund the police by 50% as 7 of the 9 Council members, including myself, promised to do earlier this summer during the height of the justice for George Floyd movement. Throughout this, the Mayor has done massive cuts to other departments, including lay offs, and there's no legal reason that continue be done in the police Department instead of the other departments. Reducing the funding and there have the size of the police Department would mean the police wouldn't have the resources to continue to Overstaff and abuse black lives matter protests, not to mention the chronic targeting they do of homeless neighbors. They'd have less time to harass communities of color as a whole, but still have a massive $180 million left over for their budget. I want to be clear that when genuine community organizers Demanned to Defund the police, this is what they were talking about.'\n",
      "\n",
      "----------------------------------------\n",
      "\n",
      "Chunk Id '103d0965-e88a-4f61-b475-bfdf3cf3c2ca':\n",
      "\t'So this is the item that would abrogate 93 unfilled positions in the Seattle Police Department. And similar to the concerns I raised earlier, I feel that we want to have the full public safety plan. We want to have the alternatives sketched out more fully in terms of increasing public safety and community wellness. And we're going to have that process unfold. And the abrogating of positions to be, you know, while there is a good rationale for defunding, this is deleting the positions. And deleting the positions unnecessarily reduces the flexibility. And for what the chief and the mayor have intended, I believe they abrogated 47 of the positions, but this is going to abrogate more of them. And I believe we want to have that flexibility of having those positions still on the books, even if they're not funded in case they are needed. Again, we're also seeing attrition occur at a faster rate. Thank you. Thank you. Council President Gonzalez, as a sponsor, would you like to add any additional information? Again, this is one that we've discussed quite a bit during our budget committee processes.'\n",
      "\n",
      "----------------------------------------\n",
      "\n",
      "Chunk Id '472d644b-7e45-427e-a70e-121da305f645':\n",
      "\t'Oh, hi, Kalia. Hi. Go ahead. Good morning, City Council. My name is Kalia Davis. I'm a student at the Center School. I will be talking to you today about defunding the police and regulating the funds for this community service. This is important because I feel like we need a safer environment for the people of color after the incident with George Floyd. The police have been getting away with harassing innocent Black people in the communities, and that should be stopped. As a Black woman, I feel that we need to prioritize the communities over policing. When we look at the schools in the South End, they are filled with students of color, especially Black students, and these schools are underfunded. When you go to the South End of Seattle, you see the police everywhere, but when you go to the North, where all the white people live, there is significantly less. Thank you, Malika. If you could, or thank you, Kalia, if you could send in the rest of your comments. The next person is Malika. Hi, my name is Malika Lamont, and I am the Director of Vocal Washington based in downtown Seattle.'\n",
      "\n",
      "----------------------------------------\n",
      "\n",
      "Chunk Id '97911f1f-c84e-4d18-9865-df44c89a9687':\n",
      "\t'January 6, 2021, will be a brutal reminder of how fragile any democracy is, the importance of education, and how much education – how much elections really matter. I'm hopeful of efforts on Capitol Hill this week to impeach and remove President Trump. The inauguration of a new presidential administration on January 20th cannot come soon enough. Regarding the comments of Mike Sullen, while I have not been in favor of defunding our Police Department by any specific percentage, but have instead favored an approach that first implements a solid plan to revamp public safety, I absolutely condemn the remarks by the President of the Police Union, Mike Sullen, on Twitter. While this City Council, like all legislative bodies, will disagree on many things, I believe we all agree not only that Mr. Sullen's remarks and their implications are reprehensible and untrue, but also the need to revamp the inflexible, expensive, and unjust police union contract. I concur with the comments from our mayor, our former Police Chief Carmen Best, and many others.'\n",
      "\n",
      "----------------------------------------\n",
      "\n",
      "Chunk Id '8a0bd951-0a92-4905-bb1f-5af003711477':\n",
      "\t'Many of you have pledged your support for defunding, so please follow through, and furthermore, look into what total abolishment and what that can look like. We need community-based systems that are suited towards crime prevention, not an outdated, corrupt, racist police system. Thank you. I yield my time. Thank you. Thank you for calling in today. Next up is Joan, followed by Tom Fiala. Good afternoon, city council members. My name is Joanne Ballesteros. I live at Sherrill 10CD3, almost two years. It is a safe place, decent place to live. I am speaking today about your work plan for 2020. Please find some place in your work plan to make sure my home, 10CD3, gets support to the city budget. Every year, the city council spends money on homeless service and shelter that is not good. Good at 10CD3, it pays for shelter where people get the coronavirus, none of us has gotten the coronavirus at 10CD3. It pays for shelter where people are in power. It pays for shelter where people don't have privacy, like I do with my 10. The quality of the shelter is what should be important, but it is not what is important to the human service department.'\n",
      "\n",
      "----------------------------------------\n",
      "\n"
     ]
    }
   ],
   "source": [
    "# Read the text for these examples\n",
    "for _, row in TOP_10_START.iterrows():\n",
    "    # Read the text\n",
    "    with FS.open(row.chunk_storage_path, \"r\") as open_f:\n",
    "        text = open_f.read()\n",
    "    \n",
    "    print(f\"Chunk Id '{row.chunk_id}':\")\n",
    "    print(f\"\\t'{text}'\")\n",
    "    print()\n",
    "    print(\"-\" * 40)\n",
    "    print()"
   ]
  },
  {
   "cell_type": "code",
   "execution_count": 5,
   "id": "118b53dc-06de-4b07-a9bd-ac98c1d5ffe9",
   "metadata": {
    "tags": []
   },
   "outputs": [],
   "source": [
    "# My positive and negative annotations\n",
    "# a list of positives and a list of negatives\n",
    "# the items in each list are the indices of the items\n",
    "\n",
    "# For the sake of this example, I am selected texts as positive if I think they were public commments\n",
    "# rather than comments / discussion from councilmembers themselves\n",
    "positives = [\n",
    "    \"dd2e8dbf-898a-4bf7-be05-a6d085b637e9\",\n",
    "    \"f672510a-a0ff-47cb-ac95-1180e6086198\",\n",
    "    \"9fc0fb64-ff33-4410-9ae5-32d9cde71744\",\n",
    "    \"472d644b-7e45-427e-a70e-121da305f645\",\n",
    "    \"8a0bd951-0a92-4905-bb1f-5af003711477\",\n",
    "]\n",
    "\n",
    "negatives = [\n",
    "    \"c52cabcf-389b-4222-ab25-b42bfae70c72\",\n",
    "    \"28798b41-7a0d-42ce-8dae-8439125a676f\",\n",
    "    \"93aa6037-a12a-4db4-99bb-420eee091fbf\",\n",
    "    \"103d0965-e88a-4f61-b475-bfdf3cf3c2ca\",\n",
    "    \"97911f1f-c84e-4d18-9865-df44c89a9687\",\n",
    "]"
   ]
  },
  {
   "cell_type": "code",
   "execution_count": 6,
   "id": "694d2b63-c955-42b6-85d6-575556a83ab7",
   "metadata": {
    "tags": []
   },
   "outputs": [
    {
     "data": {
      "text/html": [
       "<style>#sk-container-id-1 {color: black;background-color: white;}#sk-container-id-1 pre{padding: 0;}#sk-container-id-1 div.sk-toggleable {background-color: white;}#sk-container-id-1 label.sk-toggleable__label {cursor: pointer;display: block;width: 100%;margin-bottom: 0;padding: 0.3em;box-sizing: border-box;text-align: center;}#sk-container-id-1 label.sk-toggleable__label-arrow:before {content: \"▸\";float: left;margin-right: 0.25em;color: #696969;}#sk-container-id-1 label.sk-toggleable__label-arrow:hover:before {color: black;}#sk-container-id-1 div.sk-estimator:hover label.sk-toggleable__label-arrow:before {color: black;}#sk-container-id-1 div.sk-toggleable__content {max-height: 0;max-width: 0;overflow: hidden;text-align: left;background-color: #f0f8ff;}#sk-container-id-1 div.sk-toggleable__content pre {margin: 0.2em;color: black;border-radius: 0.25em;background-color: #f0f8ff;}#sk-container-id-1 input.sk-toggleable__control:checked~div.sk-toggleable__content {max-height: 200px;max-width: 100%;overflow: auto;}#sk-container-id-1 input.sk-toggleable__control:checked~label.sk-toggleable__label-arrow:before {content: \"▾\";}#sk-container-id-1 div.sk-estimator input.sk-toggleable__control:checked~label.sk-toggleable__label {background-color: #d4ebff;}#sk-container-id-1 div.sk-label input.sk-toggleable__control:checked~label.sk-toggleable__label {background-color: #d4ebff;}#sk-container-id-1 input.sk-hidden--visually {border: 0;clip: rect(1px 1px 1px 1px);clip: rect(1px, 1px, 1px, 1px);height: 1px;margin: -1px;overflow: hidden;padding: 0;position: absolute;width: 1px;}#sk-container-id-1 div.sk-estimator {font-family: monospace;background-color: #f0f8ff;border: 1px dotted black;border-radius: 0.25em;box-sizing: border-box;margin-bottom: 0.5em;}#sk-container-id-1 div.sk-estimator:hover {background-color: #d4ebff;}#sk-container-id-1 div.sk-parallel-item::after {content: \"\";width: 100%;border-bottom: 1px solid gray;flex-grow: 1;}#sk-container-id-1 div.sk-label:hover label.sk-toggleable__label {background-color: #d4ebff;}#sk-container-id-1 div.sk-serial::before {content: \"\";position: absolute;border-left: 1px solid gray;box-sizing: border-box;top: 0;bottom: 0;left: 50%;z-index: 0;}#sk-container-id-1 div.sk-serial {display: flex;flex-direction: column;align-items: center;background-color: white;padding-right: 0.2em;padding-left: 0.2em;position: relative;}#sk-container-id-1 div.sk-item {position: relative;z-index: 1;}#sk-container-id-1 div.sk-parallel {display: flex;align-items: stretch;justify-content: center;background-color: white;position: relative;}#sk-container-id-1 div.sk-item::before, #sk-container-id-1 div.sk-parallel-item::before {content: \"\";position: absolute;border-left: 1px solid gray;box-sizing: border-box;top: 0;bottom: 0;left: 50%;z-index: -1;}#sk-container-id-1 div.sk-parallel-item {display: flex;flex-direction: column;z-index: 1;position: relative;background-color: white;}#sk-container-id-1 div.sk-parallel-item:first-child::after {align-self: flex-end;width: 50%;}#sk-container-id-1 div.sk-parallel-item:last-child::after {align-self: flex-start;width: 50%;}#sk-container-id-1 div.sk-parallel-item:only-child::after {width: 0;}#sk-container-id-1 div.sk-dashed-wrapped {border: 1px dashed gray;margin: 0 0.4em 0.5em 0.4em;box-sizing: border-box;padding-bottom: 0.4em;background-color: white;}#sk-container-id-1 div.sk-label label {font-family: monospace;font-weight: bold;display: inline-block;line-height: 1.2em;}#sk-container-id-1 div.sk-label-container {text-align: center;}#sk-container-id-1 div.sk-container {/* jupyter's `normalize.less` sets `[hidden] { display: none; }` but bootstrap.min.css set `[hidden] { display: none !important; }` so we also need the `!important` here to be able to override the default hidden behavior on the sphinx rendered scikit-learn.org. See: https://github.com/scikit-learn/scikit-learn/issues/21755 */display: inline-block !important;position: relative;}#sk-container-id-1 div.sk-text-repr-fallback {display: none;}</style><div id=\"sk-container-id-1\" class=\"sk-top-container\"><div class=\"sk-text-repr-fallback\"><pre>LogisticRegression(class_weight=&#x27;balanced&#x27;, max_iter=100000, random_state=1)</pre><b>In a Jupyter environment, please rerun this cell to show the HTML representation or trust the notebook. <br />On GitHub, the HTML representation is unable to render, please try loading this page with nbviewer.org.</b></div><div class=\"sk-container\" hidden><div class=\"sk-item\"><div class=\"sk-estimator sk-toggleable\"><input class=\"sk-toggleable__control sk-hidden--visually\" id=\"sk-estimator-id-1\" type=\"checkbox\" checked><label for=\"sk-estimator-id-1\" class=\"sk-toggleable__label sk-toggleable__label-arrow\">LogisticRegression</label><div class=\"sk-toggleable__content\"><pre>LogisticRegression(class_weight=&#x27;balanced&#x27;, max_iter=100000, random_state=1)</pre></div></div></div></div></div>"
      ],
      "text/plain": [
       "LogisticRegression(class_weight='balanced', max_iter=100000, random_state=1)"
      ]
     },
     "execution_count": 6,
     "metadata": {},
     "output_type": "execute_result"
    }
   ],
   "source": [
    "import numpy as np\n",
    "from sklearn.linear_model import LogisticRegression\n",
    "\n",
    "# set random seed for reproducibility\n",
    "# and set hyper parameters for random negative examples\n",
    "np.random.seed(0)\n",
    "n_negative_examples = 400\n",
    "\n",
    "# using the stored chunk ids, pull the positive embeddings\n",
    "positive_embeddings = np.stack(DATASET.loc[DATASET.chunk_id.isin(positives)].embedding)\n",
    "\n",
    "# using the stored chunk ids, pull the negative embeddings\n",
    "negative_embeddings = np.stack(DATASET.loc[DATASET.chunk_id.isin(negatives)].embedding)\n",
    "\n",
    "# randomly draw embeddings to be additional negative examples\n",
    "random_embeddings_for_negative = np.stack(DATASET.sample(n_negative_examples).embedding)\n",
    "\n",
    "# technically the user could have not given any negative examples\n",
    "# so safety check, \"should these embeddings be combined or not\"\n",
    "if len(negative_embeddings) > 0:\n",
    "    complete_negative_embeddings = np.concatenate(\n",
    "        [negative_embeddings, random_embeddings_for_negative],\n",
    "        axis=0,\n",
    "    )\n",
    "else:\n",
    "    complete_negative_embeddings = random_embeddings_for_negative\n",
    "\n",
    "# Construct training data\n",
    "train_embeddings = np.concatenate((positive_embeddings, complete_negative_embeddings), axis=0)\n",
    "train_labels = np.concatenate((\n",
    "    # positives are 1\n",
    "    np.ones(len(positive_embeddings)),\n",
    "    # negatives are 0\n",
    "    np.zeros(len(complete_negative_embeddings)),\n",
    "))\n",
    "\n",
    "# Create classifier\n",
    "clf = LogisticRegression(class_weight=\"balanced\", random_state=1, max_iter=100000)\n",
    "\n",
    "# Fit the model\n",
    "clf.fit(train_embeddings, train_labels)"
   ]
  },
  {
   "cell_type": "code",
   "execution_count": 7,
   "id": "d5e96d02-6282-4e2e-891e-07a09a80937d",
   "metadata": {
    "tags": []
   },
   "outputs": [
    {
     "data": {
      "text/plain": [
       "(8272, 2)"
      ]
     },
     "execution_count": 7,
     "metadata": {},
     "output_type": "execute_result"
    }
   ],
   "source": [
    "# Get a new dataset with the prior examples (already annotated) removed\n",
    "THE_REST = DATASET.sort_values(by=\"similarity\", ascending=False)[10:]\n",
    "\n",
    "# Generate probabilities to use for next annotation cycle\n",
    "predictions = clf.predict_proba(np.stack(THE_REST.embedding))\n",
    "predictions.shape"
   ]
  },
  {
   "cell_type": "code",
   "execution_count": 8,
   "id": "8ac9d61c-f984-4a82-a78b-71c882ce9ff6",
   "metadata": {
    "tags": []
   },
   "outputs": [
    {
     "data": {
      "text/html": [
       "<div>\n",
       "<style scoped>\n",
       "    .dataframe tbody tr th:only-of-type {\n",
       "        vertical-align: middle;\n",
       "    }\n",
       "\n",
       "    .dataframe tbody tr th {\n",
       "        vertical-align: top;\n",
       "    }\n",
       "\n",
       "    .dataframe thead th {\n",
       "        text-align: right;\n",
       "    }\n",
       "</style>\n",
       "<table border=\"1\" class=\"dataframe\">\n",
       "  <thead>\n",
       "    <tr style=\"text-align: right;\">\n",
       "      <th></th>\n",
       "      <th>chunk_id</th>\n",
       "      <th>proba</th>\n",
       "    </tr>\n",
       "  </thead>\n",
       "  <tbody>\n",
       "    <tr>\n",
       "      <th>1927</th>\n",
       "      <td>37de3ce5-be66-4e9d-ae3d-cf834bbfb3c7</td>\n",
       "      <td>0.749970</td>\n",
       "    </tr>\n",
       "    <tr>\n",
       "      <th>3964</th>\n",
       "      <td>83509246-6762-4d28-a521-2adba4403732</td>\n",
       "      <td>0.744081</td>\n",
       "    </tr>\n",
       "    <tr>\n",
       "      <th>2068</th>\n",
       "      <td>522fde6c-33b9-41fb-8e47-b4d7c0cda3bf</td>\n",
       "      <td>0.666073</td>\n",
       "    </tr>\n",
       "    <tr>\n",
       "      <th>4746</th>\n",
       "      <td>2279307e-bb84-432a-88d5-355c89523af3</td>\n",
       "      <td>0.648679</td>\n",
       "    </tr>\n",
       "    <tr>\n",
       "      <th>1940</th>\n",
       "      <td>79e6d909-8dd8-4571-9da7-83f6ca511c8c</td>\n",
       "      <td>0.633587</td>\n",
       "    </tr>\n",
       "    <tr>\n",
       "      <th>1922</th>\n",
       "      <td>66708a98-03b6-4620-b661-ec188d5cc2ad</td>\n",
       "      <td>0.629224</td>\n",
       "    </tr>\n",
       "    <tr>\n",
       "      <th>6381</th>\n",
       "      <td>a0eb4fae-6f18-4d76-9e81-6155f7a9e5d4</td>\n",
       "      <td>0.613640</td>\n",
       "    </tr>\n",
       "    <tr>\n",
       "      <th>5703</th>\n",
       "      <td>30699f70-852a-4f03-936e-bf85ef822708</td>\n",
       "      <td>0.601795</td>\n",
       "    </tr>\n",
       "    <tr>\n",
       "      <th>5065</th>\n",
       "      <td>b940d5ea-6a54-4418-af7e-6a2e5eedee3a</td>\n",
       "      <td>0.591204</td>\n",
       "    </tr>\n",
       "    <tr>\n",
       "      <th>3931</th>\n",
       "      <td>3360311e-4e79-48d7-ab9a-7a87109cdcd2</td>\n",
       "      <td>0.588740</td>\n",
       "    </tr>\n",
       "  </tbody>\n",
       "</table>\n",
       "</div>"
      ],
      "text/plain": [
       "                                  chunk_id     proba\n",
       "1927  37de3ce5-be66-4e9d-ae3d-cf834bbfb3c7  0.749970\n",
       "3964  83509246-6762-4d28-a521-2adba4403732  0.744081\n",
       "2068  522fde6c-33b9-41fb-8e47-b4d7c0cda3bf  0.666073\n",
       "4746  2279307e-bb84-432a-88d5-355c89523af3  0.648679\n",
       "1940  79e6d909-8dd8-4571-9da7-83f6ca511c8c  0.633587\n",
       "1922  66708a98-03b6-4620-b661-ec188d5cc2ad  0.629224\n",
       "6381  a0eb4fae-6f18-4d76-9e81-6155f7a9e5d4  0.613640\n",
       "5703  30699f70-852a-4f03-936e-bf85ef822708  0.601795\n",
       "5065  b940d5ea-6a54-4418-af7e-6a2e5eedee3a  0.591204\n",
       "3931  3360311e-4e79-48d7-ab9a-7a87109cdcd2  0.588740"
      ]
     },
     "execution_count": 8,
     "metadata": {},
     "output_type": "execute_result"
    }
   ],
   "source": [
    "# It gives a probability for both negative and positive -- in that order\n",
    "# We really only care about probability of positive\n",
    "proba_positive = predictions[:,1]\n",
    "\n",
    "# Attach these back to the dataframe for sorting and selection again\n",
    "THE_REST[\"proba\"] = proba_positive\n",
    "NEW_TOP_10_SELECTION = THE_REST.sort_values(by=\"proba\", ascending=False)[:10]\n",
    "NEW_TOP_10_SELECTION[[\"chunk_id\", \"proba\"]]"
   ]
  },
  {
   "cell_type": "code",
   "execution_count": 9,
   "id": "33995b6e-6b62-4101-8e5f-d26cf990e0d8",
   "metadata": {
    "tags": []
   },
   "outputs": [
    {
     "name": "stdout",
     "output_type": "stream",
     "text": [
      "Chunk Id '37de3ce5-be66-4e9d-ae3d-cf834bbfb3c7':\n",
      "\t'But now there's talk of leaving loopholes in the ban, putting us right back where we started. If the council is committed to taking responsibility for the damage done to all the people who stood up for the serious and real injustice they saw within their community, they need to uphold the ban with no loopholes, no pepper spray, no rubber bullets, no tear gas. Leaving the use of these less lethal weapons up to police officers' discretion is clearly not working, which is why we need real police accountability, a real, like, community oversight board over the police. Thank you for your time. Thank you. Our next speaker is Sarah Gonzer, followed by Margo Stewart. Sarah. Hi. Yes. My name is Sarah, and I'm a renter in District 3. I'm also calling about the chemical weapons and so-called crowd control bill, and to talk about why it's so incredibly exciting, actually, that Seattle was the first in the country to put a ban on these violent so-called crowd control weapons. And yet now we're discussing a bill that will roll out and got out this incredible victory.'\n",
      "\n",
      "----------------------------------------\n",
      "\n",
      "Chunk Id '83509246-6762-4d28-a521-2adba4403732':\n",
      "\t'They're the bare minimum, so I look forward to the city council voting yes without weakening the bills or delaying them, because I think that will be the first step towards truly putting actions to the words that black lives matter. But as I said, we do need an independently elected oversight board. We need to defund the police by 50 percent. But, you know, steps like what San Francisco has taken, which is the need to go towards community organizers, community workers, as opposed to police responding to non-criminal emergency calls, I think those are important parts of defunding the police by 50 percent. And so we're going to be discussing that soon. Just last but not least, I wanted to say, share with the public that we should all stand with the workers at Trader Joe's on Capitol Hill in Seattle. So please sign their petition. We will be sharing their link. We've already shared the link to the petition on our council office social media. We will be posting it on our council office blog as well. But as many of you may already know, the store, the Trader Joe's on Capitol Hill on Madison, was abruptly closed on the day that dozens of the employees took action in support of the Movement for Black Lives.'\n",
      "\n",
      "----------------------------------------\n",
      "\n",
      "Chunk Id '522fde6c-33b9-41fb-8e47-b4d7c0cda3bf':\n",
      "\t'Thank you. Thank you for calling in today. Next up is Peter, followed by Cody Scott. Hi, my name is Peter Shelito, and I live in Wallingford. As is evidenced by the eight-plus years of failure to make improvements under the consent decree and recent failures during protests, Seattle's Police Department is not capable of meaningful reform and must be dismantled. I'm calling on all Councilmembers and especially my District 4 representative, Alex Peterson, to support defunding the Police Department by at least 50%, as outlined by decriminalized Seattle and King County Equity Now's four-point plan presented at the Select Budget Committee meeting on July 8th. This would replace current 911 operations with a civilian-controlled system, scale up community-led solutions, fund a community-created road map to life without policing, and invest in housing for all. Thank you. Thank you for calling in. Next up is Cody Scott, followed by Ambra Zane. Hello. Cody? My name is Cody Scott. From May until now, I've been housed at Tent City 3.'\n",
      "\n",
      "----------------------------------------\n",
      "\n",
      "Chunk Id '2279307e-bb84-432a-88d5-355c89523af3':\n",
      "\t'We have about, I don't know, a couple thousand emails from folks demanding a community-led investigation of the police departments. I will Look forward to giving them a time and date when they will have the opportunity to engage in your Sentinel review process. I do Wanna just flag, I'm glad to hear that you are working with the CPC on this. Earlier, I Think sometime last year, the recommendation from the CPC was to do a Sentinel review on another allegation of police misconduct. And I Just wanna confirm that they are aligned, that this is the appropriate opportunity to inaugurate a city Sentinel review with community? Well, I Would prefer to have set up a process and had a little bit of a trial run with something that wasn't so critical, but I don't know that we have that luxury. I think We're at a moment right now where community involvement in the review is, it just has to happen. And so Some of this is out of necessity, we are using this opportunity to develop and conduct our first Sentinel event review. Really hard'\n",
      "\n",
      "----------------------------------------\n",
      "\n",
      "Chunk Id '79e6d909-8dd8-4571-9da7-83f6ca511c8c':\n",
      "\t'How many unarmed black men have we seen killed by police who then cover up their crime by saying that they were acting in self-defense? It's ridiculous that this is being proposed, and these loopholes will make the law completely inoperable. And it's really shameful that the Democrats on the Council are even thinking about watering down this victory that was won by the Black Lives Matter movement, by socialists, and introduced by Councilmember Sawant. It's been six months, and you're already trying to walk back even the minimum reforms that you made under pressure of the movement. And elected representatives need to do what working people and communities of color need, not what you believe the capitalist courts are demanding—courts, by the way, that have repeatedly failed to bring justice to victims of police brutality. So vote no on these loopholes and watering down of the— Thank you. The next speaker is Jeff Fernandez, followed by Eternally Twelve Treehugger Mariah Carey, Reincarnated Butterfly, Helmetless Cyclist, Compassing for Brother Husbands.'\n",
      "\n",
      "----------------------------------------\n",
      "\n",
      "Chunk Id '66708a98-03b6-4620-b661-ec188d5cc2ad':\n",
      "\t'It's really clear that this proposal and these loopholes are a concession to the court system that has consistently let cops off scot-free for their abuse, rather than standing with a movement that has endured these chemical weapons to fight for racial justice. So the Democrats on City Council, who profess to support the movement for racial justice and against police brutality, now supports these loopholes. I'm not surprised, but I'm disappointed. And thank you, Councilmember Sawant, for standing with us. We need more people like you, and we clearly need a new party for racial justice and working people. Thank you, Grayson. Thank you, Grayson, and the next speaker is Karen Guyland, followed by Matthew Wilder. Karen? Karen, are you with us? I believe we lost the caller. Okay, so let's move on to Matthew Wilder. Matthew? You still with us? All right. Not hearing Matthew, we're going to move on to the next. All right. Sorry. Thank you, Matthew. Can you hear me now? Yes, we can. Thank you. Sorry. The robot was being kind of weird. Hi, my name is Matt.'\n",
      "\n",
      "----------------------------------------\n",
      "\n",
      "Chunk Id 'a0eb4fae-6f18-4d76-9e81-6155f7a9e5d4':\n",
      "\t'Last week article reveals, once again, shocking mismanagement and misdeeds require the city to seek investigations by entities outside of the city. Yet the council does nothing. Despite this, OIG is allowed to continue failed oversight and to release reports on police abuse of 2020 as they've done this week. Our council member where the newest OIG report continues a tradition of empaneling 23 participants, 13 of whom come from the SPD or the failed accountability system, five from the academic or business community, with only three selected from the community, none of whom were themselves impacted directly by the police violence of 2020. Reports like these are simply attempts to sanitize the reality of the abuse people in our community have suffered at the hands of the police. When sanitization fails, our police accountability system simply chooses to ignore things like the person in behavioral crisis killed by the SPD on January 5th, a person deemed so insignificant by our accountability system that now, over two months later, we still do not know his name.'\n",
      "\n",
      "----------------------------------------\n",
      "\n",
      "Chunk Id '30699f70-852a-4f03-936e-bf85ef822708':\n",
      "\t'Given the clear track record of police departments targeting progressive and left-wing movements with violence and using kid gloves in response to far-right mobs, it is all the more important that grassroots activists fight against what are now shaping up as round two of attempts by the City Council Democratic establishment to either water down or repeal one of the few historic victories won by the George Floyd movement last year, the first-in-the-nation ban on police use of the so-called crowd control weapons. If Democrats water the ban down or, worse yet, repeal it, they will have effectively put more weapons of repression into the hands of reactionary police. I urge council members to stand on the just side of history and oppose any such attempts. The far-right vigilantism we are seeing right now is just the beginning, unless working people get organized on a mass scale. When Biden became the Democratic nominee and Bernie Sanders dropped out of the race, Trump was, yet again, like the con man that he is, able to present himself as standing against the establishment, falsely so.'\n",
      "\n",
      "----------------------------------------\n",
      "\n",
      "Chunk Id 'b940d5ea-6a54-4418-af7e-6a2e5eedee3a':\n",
      "\t'Do we only protest those killed by police not under our authority and who are 1,600 miles away? Please, I beg the council, reevaluate what our police are doing, not just beating up demonstrators, but consistently killing dozens of people in the last few years, and stop being reactive. Please be proactive. Thank you. Next up is Catherine Dawson, followed by Lata Ahmed. Hi my name is Catherine Dawson, I'm a District 3 renter and a former teacher. I'm calling to voice my support for the ordinance in honor of my chance in Las Kittens. Thank you to all the community organizers, legal advocates, and the Dunlop Kittens family who have already testified to the importance of this ordinance. We need this ordinance to protect our youth, especially black and brown youth who are more likely to be over-policed and traumatized by law enforcement. A quick example from my personal experience, I was a juror on a felony case a few years ago for a 16-year-old who was being tried as an adult. The entire case hinged on the video of his police interrogation, which happened after he waived his right to counsel.'\n",
      "\n",
      "----------------------------------------\n",
      "\n",
      "Chunk Id '3360311e-4e79-48d7-ab9a-7a87109cdcd2':\n",
      "\t'These repeals are a really good start, but it does underscore the need for investment and standing up of tiny house villages, of permanent supportive housing, of wraparound services, of a lot of the ancillary resources that are critical for folks who are trying to break the cycle of being in cycles of trafficking, substance addiction, and sex work in the city, and I look forward to working with everybody here to try to make those commitments. I think it's certainly part of our conversation around defunding and rightsizing of services in our conversation about the police department, and I look forward to continuing to work with all of the organizations that we've talked about here today and the great impactful work that Aurora Commons is doing in this area. So thank you. Thank you, Councilmember Lewis, for those words and for that work. Are there any additional comments on the bill? Councilmember Mosqueda and then Councilmember Strauss. Thank you, Council President, and thanks again to the cosponsors of this legislation.'\n",
      "\n",
      "----------------------------------------\n",
      "\n"
     ]
    }
   ],
   "source": [
    "# Read the text for these examples\n",
    "for _, row in NEW_TOP_10_SELECTION.iterrows():\n",
    "    # Read the text\n",
    "    with FS.open(row.chunk_storage_path, \"r\") as open_f:\n",
    "        text = open_f.read()\n",
    "    \n",
    "    print(f\"Chunk Id '{row.chunk_id}':\")\n",
    "    print(f\"\\t'{text}'\")\n",
    "    print()\n",
    "    print(\"-\" * 40)\n",
    "    print()"
   ]
  },
  {
   "cell_type": "code",
   "execution_count": 10,
   "id": "59b3829e-79c2-4f16-89e1-3941250cf504",
   "metadata": {
    "tags": []
   },
   "outputs": [],
   "source": [
    "# Storing for later\n",
    "# # Construct sample weights to attach during training\n",
    "# sample_weight = np.ones(len(positive_embeddings) + len(negative_embeddings))\n",
    "# # True positives + true negatives are given the same weight\n",
    "# sample_weight[:len(positive_embeddings) + len(negative_embeddings)] = 10\n",
    "# # Random sample negatives are given a smaller weight\n",
    "# # this is randomly selected\n",
    "# sample_weight[-len(complete_negative_embeddings):] = 6"
   ]
  }
 ],
 "metadata": {
  "kernelspec": {
   "display_name": "Python 3 (ipykernel)",
   "language": "python",
   "name": "python3"
  },
  "language_info": {
   "codemirror_mode": {
    "name": "ipython",
    "version": 3
   },
   "file_extension": ".py",
   "mimetype": "text/x-python",
   "name": "python",
   "nbconvert_exporter": "python",
   "pygments_lexer": "ipython3",
   "version": "3.10.11"
  }
 },
 "nbformat": 4,
 "nbformat_minor": 5
}
